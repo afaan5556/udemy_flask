{
 "cells": [
  {
   "cell_type": "markdown",
   "metadata": {},
   "source": [
    "### Named and positional arguments"
   ]
  },
  {
   "cell_type": "code",
   "execution_count": 2,
   "metadata": {},
   "outputs": [],
   "source": [
    "def my_fun(*args, **kwargs):\n",
    "    '''\n",
    "    Use to pass an unlimted number of named and positional arguments\n",
    "    '''\n",
    "#     Usually to pass data to another function"
   ]
  },
  {
   "cell_type": "code",
   "execution_count": 16,
   "metadata": {},
   "outputs": [],
   "source": [
    "def nam_and_pos(*args, **kwargs):\n",
    "    for index, i in enumerate(args):\n",
    "        print('{}: {}'.format(index, i))\n",
    "    print('')\n",
    "    for k, v in kwargs.items():\n",
    "        print('Key: {} | Value: {}'.format(k, v))"
   ]
  },
  {
   "cell_type": "code",
   "execution_count": 86,
   "metadata": {},
   "outputs": [
    {
     "ename": "NameError",
     "evalue": "name 'nam_and_pos' is not defined",
     "output_type": "error",
     "traceback": [
      "\u001b[0;31m---------------------------------------------------------------------------\u001b[0m",
      "\u001b[0;31mNameError\u001b[0m                                 Traceback (most recent call last)",
      "\u001b[0;32m<ipython-input-86-85b033cd4f6d>\u001b[0m in \u001b[0;36m<module>\u001b[0;34m\u001b[0m\n\u001b[0;32m----> 1\u001b[0;31m \u001b[0mnam_and_pos\u001b[0m\u001b[0;34m(\u001b[0m\u001b[0;34m'fff'\u001b[0m\u001b[0;34m,\u001b[0m \u001b[0;36m5\u001b[0m\u001b[0;34m,\u001b[0m \u001b[0;32mTrue\u001b[0m\u001b[0;34m,\u001b[0m \u001b[0;34m'dfsd'\u001b[0m\u001b[0;34m,\u001b[0m \u001b[0;34m-\u001b[0m\u001b[0;36m999\u001b[0m\u001b[0;34m,\u001b[0m \u001b[0mhector\u001b[0m\u001b[0;34m=\u001b[0m\u001b[0;34m'miley'\u001b[0m\u001b[0;34m,\u001b[0m \u001b[0mpiney\u001b[0m\u001b[0;34m=\u001b[0m\u001b[0;36m55\u001b[0m\u001b[0;34m)\u001b[0m\u001b[0;34m\u001b[0m\u001b[0m\n\u001b[0m",
      "\u001b[0;31mNameError\u001b[0m: name 'nam_and_pos' is not defined"
     ]
    }
   ],
   "source": [
    "nam_and_pos('fff', 5, True, 'dfsd', -999, hector='miley', piney=55)"
   ]
  },
  {
   "cell_type": "code",
   "execution_count": 119,
   "metadata": {},
   "outputs": [],
   "source": [
    "user = {'username': 'jose', 'access_level': 'admin'}"
   ]
  },
  {
   "cell_type": "code",
   "execution_count": 120,
   "metadata": {},
   "outputs": [],
   "source": [
    "import functools"
   ]
  },
  {
   "cell_type": "code",
   "execution_count": 121,
   "metadata": {},
   "outputs": [],
   "source": [
    "@make_secure\n",
    "def get_admin_password():\n",
    "    return \"1234\""
   ]
  },
  {
   "cell_type": "code",
   "execution_count": 122,
   "metadata": {},
   "outputs": [],
   "source": [
    "def make_secure(func):\n",
    "    @functools.wraps(func)\n",
    "    def secure_function(*args, **kwargs):\n",
    "        if user['access_level'] == 'admin':\n",
    "            return func()\n",
    "        else:\n",
    "            return f\"User {user['username']} is not an admin\"\n",
    "    return secure_function"
   ]
  },
  {
   "cell_type": "markdown",
   "metadata": {},
   "source": [
    "get_admin_password = make_secure(get_admin_password)"
   ]
  },
  {
   "cell_type": "code",
   "execution_count": 123,
   "metadata": {},
   "outputs": [
    {
     "name": "stdout",
     "output_type": "stream",
     "text": [
      "get_admin_password\n"
     ]
    }
   ],
   "source": [
    "print(get_admin_password.__name__)"
   ]
  },
  {
   "cell_type": "code",
   "execution_count": null,
   "metadata": {},
   "outputs": [],
   "source": []
  }
 ],
 "metadata": {
  "kernelspec": {
   "display_name": "Python 3",
   "language": "python",
   "name": "python3"
  },
  "language_info": {
   "codemirror_mode": {
    "name": "ipython",
    "version": 3
   },
   "file_extension": ".py",
   "mimetype": "text/x-python",
   "name": "python",
   "nbconvert_exporter": "python",
   "pygments_lexer": "ipython3",
   "version": "3.7.3"
  }
 },
 "nbformat": 4,
 "nbformat_minor": 2
}
